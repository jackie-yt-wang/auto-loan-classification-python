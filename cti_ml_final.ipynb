{
 "cells": [
  {
   "cell_type": "code",
   "execution_count": 126,
   "metadata": {},
   "outputs": [],
   "source": [
    "import pandas as pd\n",
    "import seaborn as sns\n",
    "import matplotlib.pyplot as plt\n",
    "import sys\n",
    "pd.set_option('display.max_rows', 500)\n",
    "pd.set_option('display.max_columns', 500)\n",
    "pd.set_option('display.width', 1000)\n",
    "\n",
    "if not sys.warnoptions:\n",
    "    import warnings\n",
    "    warnings.simplefilter(\"ignore\")"
   ]
  },
  {
   "cell_type": "markdown",
   "metadata": {},
   "source": [
    "## Import Data / Drop Data / Dependent Var"
   ]
  },
  {
   "cell_type": "code",
   "execution_count": 129,
   "metadata": {},
   "outputs": [],
   "source": [
    "\n",
    "# gm = pd.read_csv('database_gmal1801.csv',na_values='None')\n",
    "# sa = pd.read_csv('autodrive20171_database.csv',na_values='None')\n",
    "dataset = pd.read_csv('autodrive20171_database.csv', na_values='None')\n"
   ]
  },
  {
   "cell_type": "code",
   "execution_count": 130,
   "metadata": {},
   "outputs": [],
   "source": [
    "dataset.dropna (axis=1, how='all', inplace=True)\n",
    "dataset.replace ('None', 0, regex=True, inplace=True)\n",
    "\n",
    "dataset.drop (columns=['Unnamed: 0', 'assettypenumber', 'primaryloanservicername'], inplace=True)"
   ]
  },
  {
   "cell_type": "code",
   "execution_count": 131,
   "metadata": {},
   "outputs": [
    {
     "data": {
      "text/plain": [
       "(2038881, 59)"
      ]
     },
     "execution_count": 131,
     "metadata": {},
     "output_type": "execute_result"
    }
   ],
   "source": [
    "dataset.shape"
   ]
  },
  {
   "cell_type": "code",
   "execution_count": 132,
   "metadata": {
    "scrolled": true
   },
   "outputs": [],
   "source": [
    "dataset= dataset.drop(dataset[dataset.currentdelinquencystatus>=120].currentdelinquencystatus)"
   ]
  },
  {
   "cell_type": "code",
   "execution_count": 133,
   "metadata": {},
   "outputs": [],
   "source": [
    "default_asset = dataset[dataset.assetnumber.isin(dataset[dataset.loc[:, 'zerobalancecode']==4].assetnumber)].assetnumber\n",
    "dataset['Ever Defaulted']= dataset['assetnumber'].isin(default_asset)"
   ]
  },
  {
   "cell_type": "code",
   "execution_count": 134,
   "metadata": {
    "scrolled": true
   },
   "outputs": [
    {
     "data": {
      "text/plain": [
       "False    69.147289\n",
       "True     30.852711\n",
       "Name: Ever Defaulted, dtype: float64"
      ]
     },
     "execution_count": 134,
     "metadata": {},
     "output_type": "execute_result"
    }
   ],
   "source": [
    "dataset['Ever Defaulted'].value_counts()/len(dataset['Ever Defaulted'])*100"
   ]
  },
  {
   "cell_type": "code",
   "execution_count": 135,
   "metadata": {},
   "outputs": [
    {
     "data": {
      "text/plain": [
       "30.85271066794827"
      ]
     },
     "execution_count": 135,
     "metadata": {},
     "output_type": "execute_result"
    }
   ],
   "source": [
    "dataset['Ever Defaulted'].sum()/len(dataset['Ever Defaulted']) *100"
   ]
  },
  {
   "cell_type": "code",
   "execution_count": 136,
   "metadata": {},
   "outputs": [
    {
     "data": {
      "text/plain": [
       "0    0.755068\n",
       "1    0.244932\n",
       "Name: delinquency, dtype: float64"
      ]
     },
     "execution_count": 136,
     "metadata": {},
     "output_type": "execute_result"
    }
   ],
   "source": [
    "# how many people deliquent in this pool\n",
    "dataset['delinquency']=dataset['currentdelinquencystatus'].apply(lambda x: 0 if x < 32 else 1)\n",
    "dataset['delinquency'].value_counts()/len(dataset['delinquency'])"
   ]
  },
  {
   "cell_type": "code",
   "execution_count": 137,
   "metadata": {},
   "outputs": [
    {
     "data": {
      "text/plain": [
       "0.2762289796120839"
      ]
     },
     "execution_count": 137,
     "metadata": {},
     "output_type": "execute_result"
    }
   ],
   "source": [
    "# Given the unique individuals, how many of those defaulted ? \n",
    "len(dataset[dataset.loc[:, 'zerobalancecode']==4]['assetnumber'].value_counts())/len(dataset.assetnumber.value_counts())"
   ]
  },
  {
   "cell_type": "markdown",
   "metadata": {},
   "source": [
    "## Data Cleaning"
   ]
  },
  {
   "cell_type": "code",
   "execution_count": 138,
   "metadata": {
    "scrolled": true
   },
   "outputs": [
    {
     "data": {
      "text/plain": [
       "False    1559518\n",
       "True      478559\n",
       "Name: Deep South, dtype: int64"
      ]
     },
     "execution_count": 138,
     "metadata": {},
     "output_type": "execute_result"
    }
   ],
   "source": [
    "deep_south = [\"AL\", \"GA\", \"LA\", \"MS\", \"SC\", \"NC\"]\n",
    "dataset[\"Deep South\"] = dataset['obligorgeographiclocation'].isin(deep_south)\n",
    "dataset[\"Deep South\"].value_counts()"
   ]
  },
  {
   "cell_type": "code",
   "execution_count": 139,
   "metadata": {},
   "outputs": [],
   "source": [
    "west = [\"WA\", \"OR\", \"CA\", \"ID\", \"NV\", \"UT\", \"MT\", \"WY\", \"CO\"]\n",
    "mid_west = [\"ND\", \"SD\", \"NE\", \"KS\", \"MN\", \"IA\", \"MO\", \"WI\", \"IL\", \"MI\", \"IN\", \"OH\"]\n",
    "northeast = [\"NY\", \"VT\", \"ME\", \"PA\", \"NH\", \"MA\", \"RI\", \"CT\", \"NJ\", \"DE\", \"MD\", \"DC\"]\n",
    "south = [\"AR\", \"TN\", \"KY\", \"WV\", \"VA\", \"FL\", \"MD\",\"AZ\", \"NM\", \"TX\", \"OK\"]\n",
    "deep_south = [\"AL\", \"GA\", \"LA\", \"MS\", \"SC\", \"NC\"]"
   ]
  },
  {
   "cell_type": "code",
   "execution_count": 140,
   "metadata": {},
   "outputs": [],
   "source": [
    "dataset[\"West\"] = dataset['obligorgeographiclocation'].isin(west)\n",
    "dataset[\"MidWest\"] = dataset['obligorgeographiclocation'].isin(mid_west)\n",
    "dataset[\"Northeast\"] = dataset['obligorgeographiclocation'].isin(northeast)\n",
    "dataset[\"South\"] = dataset['obligorgeographiclocation'].isin(south)\n",
    "dataset[\"Deep South\"] = dataset['obligorgeographiclocation'].isin(deep_south)\n",
    "# dataset[\"Deep South\"].value_counts()"
   ]
  },
  {
   "cell_type": "code",
   "execution_count": null,
   "metadata": {},
   "outputs": [],
   "source": [
    "# Clean somoe of the data categories \n",
    "\n",
    "dataset['obligoremploymentverificationcode'] = pd.Categorical(dataset['obligoremploymentverificationcode']).rename_categories({1: 'Not Stated Not Verified', 2:'Stated Not Verified', 3: 'Stated and Verified'})\n",
    "\n",
    "dataset['obligorincomeverificationlevelcode'] = pd.Categorical(dataset['obligorincomeverificationlevelcode']).rename_categories({2: 'Stated Not Verified', 3:'Stated and Verified'})\n",
    "\n",
    "\n",
    "dataset['vehicletypecode'] = pd.Categorical(dataset['vehicletypecode']).rename_categories({1: 'Car', 2:'Truck', 3: 'SUV'})\n",
    "\n",
    "dataset['zerobalancecode'] = pd.Categorical(dataset['zerobalancecode']).rename_categories({1: 'Prepaid or Matured', 3: 'Repurchased or Replaced', 4: 'Charged-off'})\n",
    "\n",
    "dataset['vehiclenewusedcode'] = pd.Categorical(dataset['vehiclenewusedcode']).rename_categories({1: 'New', 2:'Used'})"
   ]
  },
  {
   "cell_type": "code",
   "execution_count": 146,
   "metadata": {},
   "outputs": [
    {
     "data": {
      "text/plain": [
       "538.994341468405"
      ]
     },
     "execution_count": 146,
     "metadata": {},
     "output_type": "execute_result"
    }
   ],
   "source": [
    "np.mean(dataset[dataset['obligorincomeverificationlevelcode']==3].obligorcreditscore)"
   ]
  },
  {
   "cell_type": "code",
   "execution_count": 148,
   "metadata": {},
   "outputs": [
    {
     "data": {
      "text/plain": [
       "568.3394100898211"
      ]
     },
     "execution_count": 148,
     "metadata": {},
     "output_type": "execute_result"
    }
   ],
   "source": [
    "np.mean(dataset[dataset['obligorincomeverificationlevelcode']==2].obligorcreditscore)"
   ]
  },
  {
   "cell_type": "markdown",
   "metadata": {},
   "source": [
    "### Feature Selection"
   ]
  },
  {
   "cell_type": "code",
   "execution_count": 99,
   "metadata": {},
   "outputs": [
    {
     "data": {
      "text/plain": [
       "0.011729639318951837"
      ]
     },
     "execution_count": 99,
     "metadata": {},
     "output_type": "execute_result"
    }
   ],
   "source": [
    "dataset= dataset.drop_duplicates(subset=\"assetnumber\")\n",
    "dataset['Ever Defaulted'].sum()/len(dataset['Ever Defaulted'])\n"
   ]
  },
  {
   "cell_type": "code",
   "execution_count": 100,
   "metadata": {
    "scrolled": true
   },
   "outputs": [
    {
     "data": {
      "text/plain": [
       "(46634, 71)"
      ]
     },
     "execution_count": 100,
     "metadata": {},
     "output_type": "execute_result"
    }
   ],
   "source": [
    "dataset.shape"
   ]
  },
  {
   "cell_type": "code",
   "execution_count": 101,
   "metadata": {},
   "outputs": [
    {
     "data": {
      "text/plain": [
       "Index(['assetnumber', 'reportingperiodbeginningdate', 'reportingperiodendingdate', 'originatorname', 'originationdate', 'originalloanamount', 'originalloanterm', 'loanmaturitydate', 'originalinterestratepercentage', 'interestcalculationtypecode', 'originalinterestratetypecode', 'originalinterestonlytermnumber', 'originalfirstpaymentdate', 'underwritingindicator', 'graceperiodnumber', 'paymenttypecode', 'subvented', 'vehiclemanufacturername', 'vehiclemodelname', 'vehiclenewusedcode', 'vehiclemodelyear', 'vehicletypecode', 'vehiclevalueamount', 'vehiclevaluesourcecode', 'obligorcreditscoretype', 'obligorcreditscore', 'obligorincomeverificationlevelcode', 'obligoremploymentverificationcode', 'coobligorindicator', 'paymenttoincomepercentage', 'obligorgeographiclocation', 'assetaddedindicator', 'remainingtermtomaturitynumber', 'reportingperiodmodificationindicator', 'servicingadvancemethodcode', 'reportingperiodbeginningloanbalanceamount', 'nextreportingperiodpaymentamountdue',\n",
       "       'reportingperiodinterestratepercentage', 'nextinterestratepercentage', 'servicingfeepercentage', 'servicingflatfeeamount', 'otherservicerfeeretainedbyservicer', 'otherassesseduncollectedservicerfeeamount', 'scheduledinterestamount', 'scheduledprincipalamount', 'otherprincipaladjustmentamount', 'reportingperiodactualendbalanceamount', 'reportingperiodscheduledpaymentamount', 'totalactualamountpaid', 'actualinterestcollectedamount', 'actualprincipalcollectedamount', 'actualothercollectedamount', 'serviceradvancedamount', 'interestpaidthroughdate', 'zerobalanceeffectivedate', 'zerobalancecode', 'currentdelinquencystatus', 'assetsubjectdemandindicator', 'chargedoffprincipalamount', 'recoveredamount', 'modificationtypecode', 'paymentextendednumber', 'repossessedindicator', 'repossessedproceedsamount', 'Ever Defaulted', 'delinquency', 'Deep South', 'West', 'MidWest', 'Northeast', 'South'],\n",
       "      dtype='object')"
      ]
     },
     "execution_count": 101,
     "metadata": {},
     "output_type": "execute_result"
    }
   ],
   "source": [
    "dataset.columns"
   ]
  },
  {
   "cell_type": "code",
   "execution_count": 102,
   "metadata": {},
   "outputs": [],
   "source": [
    "var_factors = [\n",
    "               'subvented', 'vehiclenewusedcode', 'vehicletypecode',\n",
    "               'obligoremploymentverificationcode',\n",
    "               'obligorincomeverificationlevelcode']\n",
    "var_quants = ['originalloanamount', 'originalloanterm', 'originalinterestratepercentage',\n",
    "              'obligorcreditscore',\n",
    "              'paymenttoincomepercentage', 'remainingtermtomaturitynumber', 'servicingfeepercentage', 'totalactualamountpaid',\n",
    "              ]\n",
    "var = var_factors + var_quants\n",
    "var_geo = ['West', 'MidWest', 'Northeast', 'South', 'Deep South']\n",
    "var = var_factors + var_quants + var_geo\n"
   ]
  },
  {
   "cell_type": "code",
   "execution_count": 103,
   "metadata": {},
   "outputs": [],
   "source": [
    "# var_num = [ 'originalinterestratepercentage', \n",
    "#            'obligorcreditscore', 'paymenttoincomepercentage', 'Deep South','originalloanamount'\n",
    "#            ,'originalloanterm', 'vehiclemodelyear','vehiclevalueamount']\n",
    "\n",
    "# # var_factors = ['obligorincomeverificationlevelcode','obligoremploymentverificationcode']\n",
    "\n",
    "# var = var_factors + var_num"
   ]
  },
  {
   "cell_type": "code",
   "execution_count": 104,
   "metadata": {
    "scrolled": false
   },
   "outputs": [
    {
     "data": {
      "text/plain": [
       "Ever Defaulted    1.0\n",
       "Name: Ever Defaulted, dtype: float64"
      ]
     },
     "execution_count": 104,
     "metadata": {},
     "output_type": "execute_result"
    }
   ],
   "source": [
    "dataset.corr()['Ever Defaulted'][dataset.corr()['Ever Defaulted']>=0.50]"
   ]
  },
  {
   "cell_type": "code",
   "execution_count": 105,
   "metadata": {},
   "outputs": [
    {
     "data": {
      "text/plain": [
       "totalactualamountpaid             0.615660\n",
       "actualprincipalcollectedamount    0.616230\n",
       "currentdelinquencystatus          0.820163\n",
       "delinquency                       1.000000\n",
       "Name: delinquency, dtype: float64"
      ]
     },
     "execution_count": 105,
     "metadata": {},
     "output_type": "execute_result"
    }
   ],
   "source": [
    "dataset.corr()['delinquency'][dataset.corr()['delinquency']>=0.50]"
   ]
  },
  {
   "cell_type": "code",
   "execution_count": 106,
   "metadata": {},
   "outputs": [
    {
     "data": {
      "text/html": [
       "<div>\n",
       "<style scoped>\n",
       "    .dataframe tbody tr th:only-of-type {\n",
       "        vertical-align: middle;\n",
       "    }\n",
       "\n",
       "    .dataframe tbody tr th {\n",
       "        vertical-align: top;\n",
       "    }\n",
       "\n",
       "    .dataframe thead th {\n",
       "        text-align: right;\n",
       "    }\n",
       "</style>\n",
       "<table border=\"1\" class=\"dataframe\">\n",
       "  <thead>\n",
       "    <tr style=\"text-align: right;\">\n",
       "      <th></th>\n",
       "      <th>subvented</th>\n",
       "      <th>originalloanamount</th>\n",
       "      <th>originalloanterm</th>\n",
       "      <th>originalinterestratepercentage</th>\n",
       "      <th>obligorcreditscore</th>\n",
       "      <th>paymenttoincomepercentage</th>\n",
       "      <th>remainingtermtomaturitynumber</th>\n",
       "      <th>servicingfeepercentage</th>\n",
       "      <th>totalactualamountpaid</th>\n",
       "      <th>West</th>\n",
       "      <th>MidWest</th>\n",
       "      <th>Northeast</th>\n",
       "      <th>South</th>\n",
       "      <th>Deep South</th>\n",
       "    </tr>\n",
       "  </thead>\n",
       "  <tbody>\n",
       "    <tr>\n",
       "      <th>subvented</th>\n",
       "      <td>1.0</td>\n",
       "      <td>NaN</td>\n",
       "      <td>NaN</td>\n",
       "      <td>NaN</td>\n",
       "      <td>NaN</td>\n",
       "      <td>NaN</td>\n",
       "      <td>NaN</td>\n",
       "      <td>NaN</td>\n",
       "      <td>NaN</td>\n",
       "      <td>NaN</td>\n",
       "      <td>NaN</td>\n",
       "      <td>NaN</td>\n",
       "      <td>NaN</td>\n",
       "      <td>NaN</td>\n",
       "    </tr>\n",
       "    <tr>\n",
       "      <th>originalloanamount</th>\n",
       "      <td>NaN</td>\n",
       "      <td>1.0</td>\n",
       "      <td>NaN</td>\n",
       "      <td>NaN</td>\n",
       "      <td>NaN</td>\n",
       "      <td>NaN</td>\n",
       "      <td>NaN</td>\n",
       "      <td>NaN</td>\n",
       "      <td>NaN</td>\n",
       "      <td>NaN</td>\n",
       "      <td>NaN</td>\n",
       "      <td>NaN</td>\n",
       "      <td>NaN</td>\n",
       "      <td>NaN</td>\n",
       "    </tr>\n",
       "    <tr>\n",
       "      <th>originalloanterm</th>\n",
       "      <td>NaN</td>\n",
       "      <td>NaN</td>\n",
       "      <td>1.000000</td>\n",
       "      <td>NaN</td>\n",
       "      <td>NaN</td>\n",
       "      <td>NaN</td>\n",
       "      <td>0.644492</td>\n",
       "      <td>NaN</td>\n",
       "      <td>NaN</td>\n",
       "      <td>NaN</td>\n",
       "      <td>NaN</td>\n",
       "      <td>NaN</td>\n",
       "      <td>NaN</td>\n",
       "      <td>NaN</td>\n",
       "    </tr>\n",
       "    <tr>\n",
       "      <th>originalinterestratepercentage</th>\n",
       "      <td>NaN</td>\n",
       "      <td>NaN</td>\n",
       "      <td>NaN</td>\n",
       "      <td>1.0</td>\n",
       "      <td>NaN</td>\n",
       "      <td>NaN</td>\n",
       "      <td>NaN</td>\n",
       "      <td>NaN</td>\n",
       "      <td>NaN</td>\n",
       "      <td>NaN</td>\n",
       "      <td>NaN</td>\n",
       "      <td>NaN</td>\n",
       "      <td>NaN</td>\n",
       "      <td>NaN</td>\n",
       "    </tr>\n",
       "    <tr>\n",
       "      <th>obligorcreditscore</th>\n",
       "      <td>NaN</td>\n",
       "      <td>NaN</td>\n",
       "      <td>NaN</td>\n",
       "      <td>NaN</td>\n",
       "      <td>1.0</td>\n",
       "      <td>NaN</td>\n",
       "      <td>NaN</td>\n",
       "      <td>NaN</td>\n",
       "      <td>NaN</td>\n",
       "      <td>NaN</td>\n",
       "      <td>NaN</td>\n",
       "      <td>NaN</td>\n",
       "      <td>NaN</td>\n",
       "      <td>NaN</td>\n",
       "    </tr>\n",
       "    <tr>\n",
       "      <th>paymenttoincomepercentage</th>\n",
       "      <td>NaN</td>\n",
       "      <td>NaN</td>\n",
       "      <td>NaN</td>\n",
       "      <td>NaN</td>\n",
       "      <td>NaN</td>\n",
       "      <td>1.0</td>\n",
       "      <td>NaN</td>\n",
       "      <td>NaN</td>\n",
       "      <td>NaN</td>\n",
       "      <td>NaN</td>\n",
       "      <td>NaN</td>\n",
       "      <td>NaN</td>\n",
       "      <td>NaN</td>\n",
       "      <td>NaN</td>\n",
       "    </tr>\n",
       "    <tr>\n",
       "      <th>remainingtermtomaturitynumber</th>\n",
       "      <td>NaN</td>\n",
       "      <td>NaN</td>\n",
       "      <td>0.644492</td>\n",
       "      <td>NaN</td>\n",
       "      <td>NaN</td>\n",
       "      <td>NaN</td>\n",
       "      <td>1.000000</td>\n",
       "      <td>NaN</td>\n",
       "      <td>NaN</td>\n",
       "      <td>NaN</td>\n",
       "      <td>NaN</td>\n",
       "      <td>NaN</td>\n",
       "      <td>NaN</td>\n",
       "      <td>NaN</td>\n",
       "    </tr>\n",
       "    <tr>\n",
       "      <th>servicingfeepercentage</th>\n",
       "      <td>NaN</td>\n",
       "      <td>NaN</td>\n",
       "      <td>NaN</td>\n",
       "      <td>NaN</td>\n",
       "      <td>NaN</td>\n",
       "      <td>NaN</td>\n",
       "      <td>NaN</td>\n",
       "      <td>1.0</td>\n",
       "      <td>NaN</td>\n",
       "      <td>NaN</td>\n",
       "      <td>NaN</td>\n",
       "      <td>NaN</td>\n",
       "      <td>NaN</td>\n",
       "      <td>NaN</td>\n",
       "    </tr>\n",
       "    <tr>\n",
       "      <th>totalactualamountpaid</th>\n",
       "      <td>NaN</td>\n",
       "      <td>NaN</td>\n",
       "      <td>NaN</td>\n",
       "      <td>NaN</td>\n",
       "      <td>NaN</td>\n",
       "      <td>NaN</td>\n",
       "      <td>NaN</td>\n",
       "      <td>NaN</td>\n",
       "      <td>1.0</td>\n",
       "      <td>NaN</td>\n",
       "      <td>NaN</td>\n",
       "      <td>NaN</td>\n",
       "      <td>NaN</td>\n",
       "      <td>NaN</td>\n",
       "    </tr>\n",
       "    <tr>\n",
       "      <th>West</th>\n",
       "      <td>NaN</td>\n",
       "      <td>NaN</td>\n",
       "      <td>NaN</td>\n",
       "      <td>NaN</td>\n",
       "      <td>NaN</td>\n",
       "      <td>NaN</td>\n",
       "      <td>NaN</td>\n",
       "      <td>NaN</td>\n",
       "      <td>NaN</td>\n",
       "      <td>1.0</td>\n",
       "      <td>NaN</td>\n",
       "      <td>NaN</td>\n",
       "      <td>NaN</td>\n",
       "      <td>NaN</td>\n",
       "    </tr>\n",
       "    <tr>\n",
       "      <th>MidWest</th>\n",
       "      <td>NaN</td>\n",
       "      <td>NaN</td>\n",
       "      <td>NaN</td>\n",
       "      <td>NaN</td>\n",
       "      <td>NaN</td>\n",
       "      <td>NaN</td>\n",
       "      <td>NaN</td>\n",
       "      <td>NaN</td>\n",
       "      <td>NaN</td>\n",
       "      <td>NaN</td>\n",
       "      <td>1.0</td>\n",
       "      <td>NaN</td>\n",
       "      <td>NaN</td>\n",
       "      <td>NaN</td>\n",
       "    </tr>\n",
       "    <tr>\n",
       "      <th>Northeast</th>\n",
       "      <td>NaN</td>\n",
       "      <td>NaN</td>\n",
       "      <td>NaN</td>\n",
       "      <td>NaN</td>\n",
       "      <td>NaN</td>\n",
       "      <td>NaN</td>\n",
       "      <td>NaN</td>\n",
       "      <td>NaN</td>\n",
       "      <td>NaN</td>\n",
       "      <td>NaN</td>\n",
       "      <td>NaN</td>\n",
       "      <td>1.0</td>\n",
       "      <td>NaN</td>\n",
       "      <td>NaN</td>\n",
       "    </tr>\n",
       "    <tr>\n",
       "      <th>South</th>\n",
       "      <td>NaN</td>\n",
       "      <td>NaN</td>\n",
       "      <td>NaN</td>\n",
       "      <td>NaN</td>\n",
       "      <td>NaN</td>\n",
       "      <td>NaN</td>\n",
       "      <td>NaN</td>\n",
       "      <td>NaN</td>\n",
       "      <td>NaN</td>\n",
       "      <td>NaN</td>\n",
       "      <td>NaN</td>\n",
       "      <td>NaN</td>\n",
       "      <td>1.0</td>\n",
       "      <td>NaN</td>\n",
       "    </tr>\n",
       "    <tr>\n",
       "      <th>Deep South</th>\n",
       "      <td>NaN</td>\n",
       "      <td>NaN</td>\n",
       "      <td>NaN</td>\n",
       "      <td>NaN</td>\n",
       "      <td>NaN</td>\n",
       "      <td>NaN</td>\n",
       "      <td>NaN</td>\n",
       "      <td>NaN</td>\n",
       "      <td>NaN</td>\n",
       "      <td>NaN</td>\n",
       "      <td>NaN</td>\n",
       "      <td>NaN</td>\n",
       "      <td>NaN</td>\n",
       "      <td>1.0</td>\n",
       "    </tr>\n",
       "  </tbody>\n",
       "</table>\n",
       "</div>"
      ],
      "text/plain": [
       "                                subvented  originalloanamount  originalloanterm  originalinterestratepercentage  obligorcreditscore  paymenttoincomepercentage  remainingtermtomaturitynumber  servicingfeepercentage  totalactualamountpaid  West  MidWest  Northeast  South  Deep South\n",
       "subvented                             1.0                 NaN               NaN                             NaN                 NaN                        NaN                            NaN                     NaN                    NaN   NaN      NaN        NaN    NaN         NaN\n",
       "originalloanamount                    NaN                 1.0               NaN                             NaN                 NaN                        NaN                            NaN                     NaN                    NaN   NaN      NaN        NaN    NaN         NaN\n",
       "originalloanterm                      NaN                 NaN          1.000000                             NaN                 NaN                        NaN                       0.644492                     NaN                    NaN   NaN      NaN        NaN    NaN         NaN\n",
       "originalinterestratepercentage        NaN                 NaN               NaN                             1.0                 NaN                        NaN                            NaN                     NaN                    NaN   NaN      NaN        NaN    NaN         NaN\n",
       "obligorcreditscore                    NaN                 NaN               NaN                             NaN                 1.0                        NaN                            NaN                     NaN                    NaN   NaN      NaN        NaN    NaN         NaN\n",
       "paymenttoincomepercentage             NaN                 NaN               NaN                             NaN                 NaN                        1.0                            NaN                     NaN                    NaN   NaN      NaN        NaN    NaN         NaN\n",
       "remainingtermtomaturitynumber         NaN                 NaN          0.644492                             NaN                 NaN                        NaN                       1.000000                     NaN                    NaN   NaN      NaN        NaN    NaN         NaN\n",
       "servicingfeepercentage                NaN                 NaN               NaN                             NaN                 NaN                        NaN                            NaN                     1.0                    NaN   NaN      NaN        NaN    NaN         NaN\n",
       "totalactualamountpaid                 NaN                 NaN               NaN                             NaN                 NaN                        NaN                            NaN                     NaN                    1.0   NaN      NaN        NaN    NaN         NaN\n",
       "West                                  NaN                 NaN               NaN                             NaN                 NaN                        NaN                            NaN                     NaN                    NaN   1.0      NaN        NaN    NaN         NaN\n",
       "MidWest                               NaN                 NaN               NaN                             NaN                 NaN                        NaN                            NaN                     NaN                    NaN   NaN      1.0        NaN    NaN         NaN\n",
       "Northeast                             NaN                 NaN               NaN                             NaN                 NaN                        NaN                            NaN                     NaN                    NaN   NaN      NaN        1.0    NaN         NaN\n",
       "South                                 NaN                 NaN               NaN                             NaN                 NaN                        NaN                            NaN                     NaN                    NaN   NaN      NaN        NaN    1.0         NaN\n",
       "Deep South                            NaN                 NaN               NaN                             NaN                 NaN                        NaN                            NaN                     NaN                    NaN   NaN      NaN        NaN    NaN         1.0"
      ]
     },
     "execution_count": 106,
     "metadata": {},
     "output_type": "execute_result"
    }
   ],
   "source": [
    "cor = dataset[var]\n",
    "cor.corr()[cor.corr()>=0.5]"
   ]
  },
  {
   "cell_type": "code",
   "execution_count": 107,
   "metadata": {},
   "outputs": [],
   "source": [
    "# ind = dataset.assetnumber.value_counts().index\n",
    "# for i in ind[14500:15000]:\n",
    "#     print(dataset[dataset.assetnumber ==i].obligorcreditscore)"
   ]
  },
  {
   "cell_type": "code",
   "execution_count": 108,
   "metadata": {},
   "outputs": [],
   "source": [
    "# var_num = ['originalloanamount', 'originalinterestratepercentage', \n",
    "#            'originalloanterm', 'paymenttoincomepercentage', 'Deep South'] # 'remainingtermtomaturitynumber', 'vehiclemodelyear', 'graceperiodnumber', 'obligorcreditscore'\n",
    "\n",
    "# var_factors = ['vehiclenewusedcode']"
   ]
  },
  {
   "cell_type": "code",
   "execution_count": 109,
   "metadata": {
    "scrolled": false
   },
   "outputs": [],
   "source": [
    "dataset.drop(dataset[~dataset['zerobalancecode'].isna()].index, inplace = True) \n"
   ]
  },
  {
   "cell_type": "code",
   "execution_count": 110,
   "metadata": {
    "scrolled": true
   },
   "outputs": [],
   "source": [
    "# drop zero balance code \n",
    "dataset.drop(['zerobalancecode'], axis =1, inplace = True)"
   ]
  },
  {
   "cell_type": "code",
   "execution_count": 111,
   "metadata": {},
   "outputs": [],
   "source": [
    "# Creat dependent variables\n",
    "var_drop = list(set(dataset.columns.values)-set(var))\n",
    "dataset = pd.get_dummies(dataset, columns=var_factors)"
   ]
  },
  {
   "cell_type": "code",
   "execution_count": null,
   "metadata": {},
   "outputs": [],
   "source": []
  },
  {
   "cell_type": "code",
   "execution_count": 112,
   "metadata": {},
   "outputs": [],
   "source": [
    "X = dataset.drop(columns=var_drop)\n",
    "y = dataset[['Ever Defaulted']]"
   ]
  },
  {
   "cell_type": "code",
   "execution_count": 114,
   "metadata": {},
   "outputs": [
    {
     "data": {
      "text/plain": [
       "0.9782536849758742"
      ]
     },
     "execution_count": 114,
     "metadata": {},
     "output_type": "execute_result"
    }
   ],
   "source": [
    "y['Ever Defaulted'].sum()/len(y)*100"
   ]
  },
  {
   "cell_type": "code",
   "execution_count": 74,
   "metadata": {},
   "outputs": [
    {
     "data": {
      "text/plain": [
       "((68164, 26), (68164, 1))"
      ]
     },
     "execution_count": 74,
     "metadata": {},
     "output_type": "execute_result"
    }
   ],
   "source": [
    "X.shape, y.shape"
   ]
  },
  {
   "cell_type": "code",
   "execution_count": 75,
   "metadata": {},
   "outputs": [],
   "source": [
    "X_na = X.loc[:, X.isna().any()]"
   ]
  },
  {
   "cell_type": "code",
   "execution_count": 76,
   "metadata": {},
   "outputs": [],
   "source": [
    "y_na = y.loc[:, y.isna().any()]"
   ]
  },
  {
   "cell_type": "code",
   "execution_count": 77,
   "metadata": {},
   "outputs": [
    {
     "data": {
      "text/plain": [
       "Index([], dtype='object')"
      ]
     },
     "execution_count": 77,
     "metadata": {},
     "output_type": "execute_result"
    }
   ],
   "source": [
    "y_na.columns"
   ]
  },
  {
   "cell_type": "code",
   "execution_count": 78,
   "metadata": {},
   "outputs": [
    {
     "data": {
      "text/plain": [
       "Index(['originalloanterm', 'originalinterestratepercentage', 'obligorcreditscore', 'paymenttoincomepercentage', 'remainingtermtomaturitynumber', 'totalactualamountpaid'], dtype='object')"
      ]
     },
     "execution_count": 78,
     "metadata": {},
     "output_type": "execute_result"
    }
   ],
   "source": [
    "X_na.columns"
   ]
  },
  {
   "cell_type": "code",
   "execution_count": 79,
   "metadata": {},
   "outputs": [],
   "source": [
    "from sklearn.impute import SimpleImputer\n",
    "import numpy as np\n",
    "imp_mean = SimpleImputer(missing_values=np.nan, strategy='mean')\n",
    "X_impute = imp_mean.fit_transform(X_na)"
   ]
  },
  {
   "cell_type": "code",
   "execution_count": 80,
   "metadata": {},
   "outputs": [],
   "source": [
    "X_impute = pd.DataFrame(X_impute, columns=list(X_na.columns.values))"
   ]
  },
  {
   "cell_type": "code",
   "execution_count": 81,
   "metadata": {},
   "outputs": [],
   "source": [
    "X.drop(columns=X_na.columns.to_list(), inplace=True)"
   ]
  },
  {
   "cell_type": "code",
   "execution_count": 82,
   "metadata": {},
   "outputs": [
    {
     "data": {
      "text/html": [
       "<div>\n",
       "<style scoped>\n",
       "    .dataframe tbody tr th:only-of-type {\n",
       "        vertical-align: middle;\n",
       "    }\n",
       "\n",
       "    .dataframe tbody tr th {\n",
       "        vertical-align: top;\n",
       "    }\n",
       "\n",
       "    .dataframe thead th {\n",
       "        text-align: right;\n",
       "    }\n",
       "</style>\n",
       "<table border=\"1\" class=\"dataframe\">\n",
       "  <thead>\n",
       "    <tr style=\"text-align: right;\">\n",
       "      <th></th>\n",
       "      <th>originalloanamount</th>\n",
       "      <th>servicingfeepercentage</th>\n",
       "      <th>Deep South</th>\n",
       "      <th>West</th>\n",
       "      <th>MidWest</th>\n",
       "      <th>Northeast</th>\n",
       "      <th>South</th>\n",
       "      <th>subvented_0.0</th>\n",
       "      <th>subvented_1.0</th>\n",
       "      <th>subvented_2.0</th>\n",
       "      <th>vehiclenewusedcode_New</th>\n",
       "      <th>vehiclenewusedcode_Used</th>\n",
       "      <th>vehicletypecode_Car</th>\n",
       "      <th>vehicletypecode_Truck</th>\n",
       "      <th>vehicletypecode_SUV</th>\n",
       "      <th>obligoremploymentverificationcode_Not Stated Not Verified</th>\n",
       "      <th>obligoremploymentverificationcode_Stated Not Verified</th>\n",
       "      <th>obligoremploymentverificationcode_Stated and Verified</th>\n",
       "      <th>obligorincomeverificationlevelcode_Stated Not Verified</th>\n",
       "      <th>obligorincomeverificationlevelcode_Stated and Verified</th>\n",
       "    </tr>\n",
       "  </thead>\n",
       "  <tbody>\n",
       "    <tr>\n",
       "      <th>1</th>\n",
       "      <td>16699.00</td>\n",
       "      <td>0.04</td>\n",
       "      <td>False</td>\n",
       "      <td>False</td>\n",
       "      <td>False</td>\n",
       "      <td>False</td>\n",
       "      <td>True</td>\n",
       "      <td>1</td>\n",
       "      <td>0</td>\n",
       "      <td>0</td>\n",
       "      <td>0</td>\n",
       "      <td>1</td>\n",
       "      <td>0</td>\n",
       "      <td>1</td>\n",
       "      <td>0</td>\n",
       "      <td>0</td>\n",
       "      <td>1</td>\n",
       "      <td>0</td>\n",
       "      <td>0</td>\n",
       "      <td>1</td>\n",
       "    </tr>\n",
       "    <tr>\n",
       "      <th>2</th>\n",
       "      <td>18099.08</td>\n",
       "      <td>0.04</td>\n",
       "      <td>True</td>\n",
       "      <td>False</td>\n",
       "      <td>False</td>\n",
       "      <td>False</td>\n",
       "      <td>False</td>\n",
       "      <td>1</td>\n",
       "      <td>0</td>\n",
       "      <td>0</td>\n",
       "      <td>0</td>\n",
       "      <td>1</td>\n",
       "      <td>0</td>\n",
       "      <td>0</td>\n",
       "      <td>1</td>\n",
       "      <td>0</td>\n",
       "      <td>0</td>\n",
       "      <td>1</td>\n",
       "      <td>0</td>\n",
       "      <td>1</td>\n",
       "    </tr>\n",
       "    <tr>\n",
       "      <th>4</th>\n",
       "      <td>15785.00</td>\n",
       "      <td>0.04</td>\n",
       "      <td>True</td>\n",
       "      <td>False</td>\n",
       "      <td>False</td>\n",
       "      <td>False</td>\n",
       "      <td>False</td>\n",
       "      <td>1</td>\n",
       "      <td>0</td>\n",
       "      <td>0</td>\n",
       "      <td>0</td>\n",
       "      <td>1</td>\n",
       "      <td>1</td>\n",
       "      <td>0</td>\n",
       "      <td>0</td>\n",
       "      <td>0</td>\n",
       "      <td>0</td>\n",
       "      <td>1</td>\n",
       "      <td>0</td>\n",
       "      <td>1</td>\n",
       "    </tr>\n",
       "    <tr>\n",
       "      <th>7</th>\n",
       "      <td>21608.35</td>\n",
       "      <td>0.04</td>\n",
       "      <td>False</td>\n",
       "      <td>False</td>\n",
       "      <td>False</td>\n",
       "      <td>False</td>\n",
       "      <td>True</td>\n",
       "      <td>1</td>\n",
       "      <td>0</td>\n",
       "      <td>0</td>\n",
       "      <td>0</td>\n",
       "      <td>1</td>\n",
       "      <td>1</td>\n",
       "      <td>0</td>\n",
       "      <td>0</td>\n",
       "      <td>0</td>\n",
       "      <td>0</td>\n",
       "      <td>1</td>\n",
       "      <td>0</td>\n",
       "      <td>1</td>\n",
       "    </tr>\n",
       "    <tr>\n",
       "      <th>9</th>\n",
       "      <td>27800.00</td>\n",
       "      <td>0.04</td>\n",
       "      <td>False</td>\n",
       "      <td>False</td>\n",
       "      <td>True</td>\n",
       "      <td>False</td>\n",
       "      <td>False</td>\n",
       "      <td>1</td>\n",
       "      <td>0</td>\n",
       "      <td>0</td>\n",
       "      <td>1</td>\n",
       "      <td>0</td>\n",
       "      <td>1</td>\n",
       "      <td>0</td>\n",
       "      <td>0</td>\n",
       "      <td>0</td>\n",
       "      <td>1</td>\n",
       "      <td>0</td>\n",
       "      <td>0</td>\n",
       "      <td>1</td>\n",
       "    </tr>\n",
       "  </tbody>\n",
       "</table>\n",
       "</div>"
      ],
      "text/plain": [
       "   originalloanamount  servicingfeepercentage  Deep South   West  MidWest  Northeast  South  subvented_0.0  subvented_1.0  subvented_2.0  vehiclenewusedcode_New  vehiclenewusedcode_Used  vehicletypecode_Car  vehicletypecode_Truck  vehicletypecode_SUV  obligoremploymentverificationcode_Not Stated Not Verified  obligoremploymentverificationcode_Stated Not Verified  obligoremploymentverificationcode_Stated and Verified  obligorincomeverificationlevelcode_Stated Not Verified  obligorincomeverificationlevelcode_Stated and Verified\n",
       "1            16699.00                    0.04       False  False    False      False   True              1              0              0                       0                        1                    0                      1                    0                                                  0                                                          1                                                      0                                                      0                                                       1     \n",
       "2            18099.08                    0.04        True  False    False      False  False              1              0              0                       0                        1                    0                      0                    1                                                  0                                                          0                                                      1                                                      0                                                       1     \n",
       "4            15785.00                    0.04        True  False    False      False  False              1              0              0                       0                        1                    1                      0                    0                                                  0                                                          0                                                      1                                                      0                                                       1     \n",
       "7            21608.35                    0.04       False  False    False      False   True              1              0              0                       0                        1                    1                      0                    0                                                  0                                                          0                                                      1                                                      0                                                       1     \n",
       "9            27800.00                    0.04       False  False     True      False  False              1              0              0                       1                        0                    1                      0                    0                                                  0                                                          1                                                      0                                                      0                                                       1     "
      ]
     },
     "execution_count": 82,
     "metadata": {},
     "output_type": "execute_result"
    }
   ],
   "source": [
    "X.head()"
   ]
  },
  {
   "cell_type": "code",
   "execution_count": 83,
   "metadata": {},
   "outputs": [],
   "source": [
    "for col in list(X_na.columns):\n",
    "    X[col] = X_impute.loc[:, col].values\n"
   ]
  },
  {
   "cell_type": "code",
   "execution_count": 84,
   "metadata": {},
   "outputs": [
    {
     "data": {
      "text/plain": [
       "(68164, 26)"
      ]
     },
     "execution_count": 84,
     "metadata": {},
     "output_type": "execute_result"
    }
   ],
   "source": [
    "X.shape"
   ]
  },
  {
   "cell_type": "markdown",
   "metadata": {},
   "source": [
    "## ML Step 1: TestTrain Split - Stratified"
   ]
  },
  {
   "cell_type": "code",
   "execution_count": 194,
   "metadata": {},
   "outputs": [],
   "source": [
    "# ! pip install xgboost\n",
    "from sklearn import preprocessing\n",
    "from sklearn.model_selection import KFold\n",
    "from sklearn.model_selection import cross_val_score\n",
    "from sklearn.metrics import roc_auc_score\n",
    "from sklearn.metrics import classification_report\n",
    "from sklearn.metrics import confusion_matrix\n",
    "from sklearn.linear_model import LogisticRegression\n",
    "from sklearn.discriminant_analysis import LinearDiscriminantAnalysis\n",
    "from sklearn.tree import DecisionTreeClassifier\n",
    "from xgboost import XGBClassifier\n",
    "from sklearn.ensemble import RandomForestClassifier\n",
    "from sklearn.svm import LinearSVC\n",
    "from sklearn.naive_bayes import GaussianNB\n",
    "from sklearn.neighbors import KNeighborsClassifier"
   ]
  },
  {
   "cell_type": "code",
   "execution_count": 195,
   "metadata": {},
   "outputs": [],
   "source": [
    "\n",
    "from sklearn.model_selection import train_test_split\n",
    "\n",
    "X_train, X_test, y_train, y_test = train_test_split(X, y, test_size=0.2, stratify = y)\n"
   ]
  },
  {
   "cell_type": "code",
   "execution_count": 196,
   "metadata": {
    "scrolled": true
   },
   "outputs": [
    {
     "name": "stdout",
     "output_type": "stream",
     "text": [
      "X_shapes:\n",
      " X_train: X_validation:\n",
      " (54355, 26) \n",
      "\n",
      "Y_shapes:\n",
      " Y_train: Y_validation:\n",
      " (54355, 1)\n"
     ]
    }
   ],
   "source": [
    "print('X_shapes:\\n', 'X_train:', 'X_validation:\\n', X_train.shape ,'\\n')\n",
    "print('Y_shapes:\\n', 'Y_train:', 'Y_validation:\\n', y_train.shape)"
   ]
  },
  {
   "cell_type": "markdown",
   "metadata": {},
   "source": [
    "##  ML Step 2: Cross Validation"
   ]
  },
  {
   "cell_type": "code",
   "execution_count": 197,
   "metadata": {},
   "outputs": [],
   "source": [
    "##Spot-Checking Algorithms\n",
    "\n",
    "models = []\n",
    "\n",
    "models.append(('LR', LogisticRegression(n_jobs=8)))\n",
    "models.append(('CART', DecisionTreeClassifier()))\n",
    "models.append(('XGB', XGBClassifier(n_jobs=8)))\n",
    "models.append(('RF', RandomForestClassifier(n_jobs=8)))\n",
    "models.append(('NB', GaussianNB()))\n",
    "models.append(('KNN', KNeighborsClassifier(n_neighbors=5,metric='euclidean')))\n",
    "\n"
   ]
  },
  {
   "cell_type": "code",
   "execution_count": 198,
   "metadata": {},
   "outputs": [
    {
     "name": "stdout",
     "output_type": "stream",
     "text": [
      "LR: 0.664362 (0.011326)\n",
      "CART: 0.570434 (0.008294)\n",
      "XGB: 0.751094 (0.006615)\n",
      "RF: 0.731401 (0.008722)\n",
      "NB: 0.572316 (0.007488)\n",
      "KNN: 0.621927 (0.015714)\n"
     ]
    }
   ],
   "source": [
    "#testing models\n",
    "\n",
    "results = []\n",
    "names = []\n",
    "\n",
    "for name, model in models:\n",
    "    kfold = KFold(n_splits=10)\n",
    "    cv_results = cross_val_score(model, X_train, y_train, cv=kfold, scoring='roc_auc')\n",
    "    results.append(cv_results)\n",
    "    names.append(name)\n",
    "    msg = '%s: %f (%f)' % (name, cv_results.mean(), cv_results.std())\n",
    "    print(msg)"
   ]
  },
  {
   "cell_type": "code",
   "execution_count": 199,
   "metadata": {
    "scrolled": true
   },
   "outputs": [
    {
     "data": {
      "image/png": "[encoded data removed]",
      "text/plain": [
       "<Figure size 864x720 with 1 Axes>"
      ]
     },
     "metadata": {
      "needs_background": "light"
     },
     "output_type": "display_data"
    }
   ],
   "source": [
    "#Compare Algorithms\n",
    "fig, ax = plt.subplots(figsize=(12, 10))\n",
    "plt.title('Comparison of Classification Algorithms')\n",
    "plt.xlabel('Algorithm')\n",
    "plt.ylabel('ROC-AUC Score')\n",
    "plt.boxplot(results)\n",
    "ax.set_xticklabels(names)\n",
    "plt.show()"
   ]
  },
  {
   "cell_type": "markdown",
   "metadata": {},
   "source": [
    "## Logistics Regression"
   ]
  },
  {
   "cell_type": "code",
   "execution_count": 200,
   "metadata": {
    "scrolled": true
   },
   "outputs": [
    {
     "data": {
      "text/plain": [
       "LogisticRegression(C=1.0, class_weight=None, dual=False, fit_intercept=True,\n",
       "                   intercept_scaling=1, l1_ratio=None, max_iter=100,\n",
       "                   multi_class='auto', n_jobs=None, penalty='l2',\n",
       "                   random_state=None, solver='lbfgs', tol=0.0001, verbose=0,\n",
       "                   warm_start=False)"
      ]
     },
     "execution_count": 200,
     "metadata": {},
     "output_type": "execute_result"
    }
   ],
   "source": [
    "import statsmodels.api as sm\n",
    "logreg = LogisticRegression()\n",
    "logreg.fit(X_train, y_train)\n",
    "\n"
   ]
  },
  {
   "cell_type": "code",
   "execution_count": 201,
   "metadata": {},
   "outputs": [
    {
     "name": "stdout",
     "output_type": "stream",
     "text": [
      "Accuracy of logistic regression classifier on test set: 0.83\n"
     ]
    }
   ],
   "source": [
    "y_pred = logreg.predict(X_test)\n",
    "print('Accuracy of logistic regression classifier on test set: {:.2f}'.format(logreg.score(X_test, y_test)))"
   ]
  },
  {
   "cell_type": "code",
   "execution_count": 202,
   "metadata": {
    "scrolled": true
   },
   "outputs": [
    {
     "name": "stdout",
     "output_type": "stream",
     "text": [
      "              precision    recall  f1-score   support\n",
      "\n",
      "       False       0.83      1.00      0.91     11250\n",
      "        True       0.00      0.00      0.00      2339\n",
      "\n",
      "    accuracy                           0.83     13589\n",
      "   macro avg       0.41      0.50      0.45     13589\n",
      "weighted avg       0.69      0.83      0.75     13589\n",
      "\n"
     ]
    }
   ],
   "source": [
    "from sklearn.metrics import classification_report\n",
    "print(classification_report(y_test, y_pred))"
   ]
  },
  {
   "cell_type": "markdown",
   "metadata": {},
   "source": [
    "## Naive Bayes"
   ]
  },
  {
   "cell_type": "code",
   "execution_count": 203,
   "metadata": {},
   "outputs": [
    {
     "data": {
      "text/plain": [
       "GaussianNB(priors=None, var_smoothing=1e-09)"
      ]
     },
     "execution_count": 203,
     "metadata": {},
     "output_type": "execute_result"
    }
   ],
   "source": [
    "nb= GaussianNB()\n",
    "nb.fit(X_train, y_train)"
   ]
  },
  {
   "cell_type": "code",
   "execution_count": 204,
   "metadata": {},
   "outputs": [
    {
     "name": "stdout",
     "output_type": "stream",
     "text": [
      "Accuracy of logistic regression classifier on test set: 0.76\n"
     ]
    }
   ],
   "source": [
    "y_pred = nb.predict(X_test)\n",
    "print('Accuracy of logistic regression classifier on test set: {:.2f}'.format(nb.score(X_test, y_test)))"
   ]
  },
  {
   "cell_type": "code",
   "execution_count": 205,
   "metadata": {
    "scrolled": true
   },
   "outputs": [
    {
     "name": "stdout",
     "output_type": "stream",
     "text": [
      "              precision    recall  f1-score   support\n",
      "\n",
      "       False       0.83      0.88      0.86     11250\n",
      "        True       0.21      0.15      0.18      2339\n",
      "\n",
      "    accuracy                           0.76     13589\n",
      "   macro avg       0.52      0.52      0.52     13589\n",
      "weighted avg       0.73      0.76      0.74     13589\n",
      "\n"
     ]
    }
   ],
   "source": [
    "from sklearn.metrics import classification_report\n",
    "print(classification_report(y_test, y_pred))"
   ]
  },
  {
   "cell_type": "markdown",
   "metadata": {},
   "source": [
    "# KNN"
   ]
  },
  {
   "cell_type": "code",
   "execution_count": 206,
   "metadata": {},
   "outputs": [
    {
     "data": {
      "text/plain": [
       "KNeighborsClassifier(algorithm='auto', leaf_size=30, metric='euclidean',\n",
       "                     metric_params=None, n_jobs=None, n_neighbors=5, p=2,\n",
       "                     weights='uniform')"
      ]
     },
     "execution_count": 206,
     "metadata": {},
     "output_type": "execute_result"
    }
   ],
   "source": [
    "knn = KNeighborsClassifier(n_neighbors=5, metric='euclidean')\n",
    "knn.fit(X_train, y_train)"
   ]
  },
  {
   "cell_type": "code",
   "execution_count": 207,
   "metadata": {},
   "outputs": [
    {
     "name": "stdout",
     "output_type": "stream",
     "text": [
      "Accuracy of KNN classifier on test set: 0.80\n"
     ]
    }
   ],
   "source": [
    "y_pred = knn.predict(X_test)\n",
    "print('Accuracy of KNN classifier on test set: {:.2f}'.format(knn.score(X_test, y_test)))"
   ]
  },
  {
   "cell_type": "code",
   "execution_count": 208,
   "metadata": {},
   "outputs": [
    {
     "name": "stdout",
     "output_type": "stream",
     "text": [
      "              precision    recall  f1-score   support\n",
      "\n",
      "       False       0.84      0.94      0.89     11250\n",
      "        True       0.32      0.14      0.20      2339\n",
      "\n",
      "    accuracy                           0.80     13589\n",
      "   macro avg       0.58      0.54      0.54     13589\n",
      "weighted avg       0.75      0.80      0.77     13589\n",
      "\n"
     ]
    }
   ],
   "source": [
    "from sklearn.metrics import classification_report\n",
    "print(classification_report(y_test, y_pred))"
   ]
  },
  {
   "cell_type": "markdown",
   "metadata": {},
   "source": [
    "## XGboost Model  "
   ]
  },
  {
   "cell_type": "code",
   "execution_count": 209,
   "metadata": {
    "scrolled": true
   },
   "outputs": [
    {
     "data": {
      "text/plain": [
       "XGBClassifier(base_score=0.5, booster=None, colsample_bylevel=1,\n",
       "              colsample_bynode=1, colsample_bytree=1, gamma=0, gpu_id=-1,\n",
       "              importance_type='gain', interaction_constraints=None,\n",
       "              learning_rate=0.300000012, max_delta_step=0, max_depth=6,\n",
       "              min_child_weight=1, missing=nan, monotone_constraints=None,\n",
       "              n_estimators=100, n_jobs=8, num_parallel_tree=1,\n",
       "              objective='binary:logistic', random_state=0, reg_alpha=0,\n",
       "              reg_lambda=1, scale_pos_weight=1, subsample=1, tree_method=None,\n",
       "              validate_parameters=False, verbosity=None)"
      ]
     },
     "execution_count": 209,
     "metadata": {},
     "output_type": "execute_result"
    }
   ],
   "source": [
    "xgb = XGBClassifier(n_jobs=8)\n",
    "xgb.fit(X_train, y_train)"
   ]
  },
  {
   "cell_type": "code",
   "execution_count": 210,
   "metadata": {},
   "outputs": [],
   "source": [
    "y_test = y_test.values"
   ]
  },
  {
   "cell_type": "code",
   "execution_count": 211,
   "metadata": {},
   "outputs": [],
   "source": [
    "y_test = y_test.reshape([len(y_test)])"
   ]
  },
  {
   "cell_type": "code",
   "execution_count": 212,
   "metadata": {
    "scrolled": true
   },
   "outputs": [
    {
     "name": "stdout",
     "output_type": "stream",
     "text": [
      "Predicted   False  True \n",
      "Actual                  \n",
      "False       10908    342\n",
      "True         2020    319\n"
     ]
    }
   ],
   "source": [
    "preds = xgb.predict(X_test)\n",
    "print(pd.crosstab(y_test, preds, rownames=['Actual '], colnames=['Predicted ']))"
   ]
  },
  {
   "cell_type": "code",
   "execution_count": 213,
   "metadata": {},
   "outputs": [
    {
     "data": {
      "text/plain": [
       "['XGBoost_gm.pkl']"
      ]
     },
     "execution_count": 213,
     "metadata": {},
     "output_type": "execute_result"
    }
   ],
   "source": [
    "import joblib\n",
    "import pickle\n",
    "# # Save to file in the current working directory\n",
    "joblib_file = \"XGBoost_gm.pkl\"\n",
    "joblib.dump(xgb, joblib_file)\n",
    "\n"
   ]
  },
  {
   "cell_type": "code",
   "execution_count": 214,
   "metadata": {},
   "outputs": [
    {
     "name": "stdout",
     "output_type": "stream",
     "text": [
      "              precision    recall  f1-score   support\n",
      "\n",
      "       False       0.84      0.97      0.90     11250\n",
      "        True       0.48      0.14      0.21      2339\n",
      "\n",
      "    accuracy                           0.83     13589\n",
      "   macro avg       0.66      0.55      0.56     13589\n",
      "weighted avg       0.78      0.83      0.78     13589\n",
      "\n"
     ]
    }
   ],
   "source": [
    "from sklearn.metrics import classification_report\n",
    "print(classification_report(y_test, preds))\n"
   ]
  },
  {
   "cell_type": "code",
   "execution_count": 215,
   "metadata": {},
   "outputs": [],
   "source": [
    "from sklearn.metrics import roc_curve"
   ]
  },
  {
   "cell_type": "code",
   "execution_count": 216,
   "metadata": {},
   "outputs": [
    {
     "name": "stderr",
     "output_type": "stream",
     "text": [
      "No handles with labels found to put in legend.\n"
     ]
    },
    {
     "data": {
      "image/png": "[encoded data removed]",
      "text/plain": [
       "<Figure size 432x288 with 1 Axes>"
      ]
     },
     "metadata": {
      "needs_background": "light"
     },
     "output_type": "display_data"
    }
   ],
   "source": [
    "random_roc_auc = roc_auc_score(y_test, xgb.predict(X_test))\n",
    "random_fpr, random_tpr, random_thresholds = roc_curve(y_test, xgb.predict_proba(X_test)[:,1])\n",
    "plt.figure()\n",
    "plt.plot(random_fpr, random_tpr, random_roc_auc)\n",
    "plt.plot([0, 1], [0, 1],'r--')\n",
    "plt.xlim([0.0, 1.0])\n",
    "plt.ylim([0.0, 1.05])\n",
    "plt.xlabel('False Positive Rate')\n",
    "plt.ylabel('True Positive Rate')\n",
    "plt.title('Receiver operating characteristic')\n",
    "plt.legend(loc=\"lower right\")\n",
    "plt.show()"
   ]
  },
  {
   "cell_type": "code",
   "execution_count": 217,
   "metadata": {},
   "outputs": [],
   "source": [
    "importance_df_xgb = pd.DataFrame(list(zip(X, xgb.feature_importances_)), columns=['Features', 'Importances'])\n",
    "importance_df_xgb = importance_df_xgb.sort_values(by=['Importances'], ascending=False)\n",
    "plot_importance = importance_df_xgb.head(10)"
   ]
  },
  {
   "cell_type": "code",
   "execution_count": 218,
   "metadata": {},
   "outputs": [
    {
     "data": {
      "text/html": [
       "<div>\n",
       "<style scoped>\n",
       "    .dataframe tbody tr th:only-of-type {\n",
       "        vertical-align: middle;\n",
       "    }\n",
       "\n",
       "    .dataframe tbody tr th {\n",
       "        vertical-align: top;\n",
       "    }\n",
       "\n",
       "    .dataframe thead th {\n",
       "        text-align: right;\n",
       "    }\n",
       "</style>\n",
       "<table border=\"1\" class=\"dataframe\">\n",
       "  <thead>\n",
       "    <tr style=\"text-align: right;\">\n",
       "      <th></th>\n",
       "      <th>Features</th>\n",
       "      <th>Importances</th>\n",
       "    </tr>\n",
       "  </thead>\n",
       "  <tbody>\n",
       "    <tr>\n",
       "      <th>25</th>\n",
       "      <td>totalactualamountpaid</td>\n",
       "      <td>0.138283</td>\n",
       "    </tr>\n",
       "    <tr>\n",
       "      <th>24</th>\n",
       "      <td>remainingtermtomaturitynumber</td>\n",
       "      <td>0.094058</td>\n",
       "    </tr>\n",
       "    <tr>\n",
       "      <th>20</th>\n",
       "      <td>originalloanterm</td>\n",
       "      <td>0.081033</td>\n",
       "    </tr>\n",
       "    <tr>\n",
       "      <th>1</th>\n",
       "      <td>servicingfeepercentage</td>\n",
       "      <td>0.079557</td>\n",
       "    </tr>\n",
       "    <tr>\n",
       "      <th>21</th>\n",
       "      <td>originalinterestratepercentage</td>\n",
       "      <td>0.052390</td>\n",
       "    </tr>\n",
       "    <tr>\n",
       "      <th>3</th>\n",
       "      <td>West</td>\n",
       "      <td>0.046582</td>\n",
       "    </tr>\n",
       "    <tr>\n",
       "      <th>13</th>\n",
       "      <td>vehicletypecode_Truck</td>\n",
       "      <td>0.042669</td>\n",
       "    </tr>\n",
       "    <tr>\n",
       "      <th>9</th>\n",
       "      <td>subvented_2.0</td>\n",
       "      <td>0.038080</td>\n",
       "    </tr>\n",
       "    <tr>\n",
       "      <th>0</th>\n",
       "      <td>originalloanamount</td>\n",
       "      <td>0.035833</td>\n",
       "    </tr>\n",
       "    <tr>\n",
       "      <th>23</th>\n",
       "      <td>paymenttoincomepercentage</td>\n",
       "      <td>0.035257</td>\n",
       "    </tr>\n",
       "  </tbody>\n",
       "</table>\n",
       "</div>"
      ],
      "text/plain": [
       "                          Features  Importances\n",
       "25           totalactualamountpaid     0.138283\n",
       "24   remainingtermtomaturitynumber     0.094058\n",
       "20                originalloanterm     0.081033\n",
       "1           servicingfeepercentage     0.079557\n",
       "21  originalinterestratepercentage     0.052390\n",
       "3                             West     0.046582\n",
       "13           vehicletypecode_Truck     0.042669\n",
       "9                    subvented_2.0     0.038080\n",
       "0               originalloanamount     0.035833\n",
       "23       paymenttoincomepercentage     0.035257"
      ]
     },
     "execution_count": 218,
     "metadata": {},
     "output_type": "execute_result"
    }
   ],
   "source": [
    "importance_df_xgb.head(10)"
   ]
  },
  {
   "cell_type": "code",
   "execution_count": 1,
   "metadata": {},
   "outputs": [
    {
     "ename": "NameError",
     "evalue": "name 'plt' is not defined",
     "output_type": "error",
     "traceback": [
      "\u001b[0;31m---------------------------------------------------------------------------\u001b[0m",
      "\u001b[0;31mNameError\u001b[0m                                 Traceback (most recent call last)",
      "\u001b[0;32m<ipython-input-1-ab60037df134>\u001b[0m in \u001b[0;36m<module>\u001b[0;34m\u001b[0m\n\u001b[0;32m----> 1\u001b[0;31m \u001b[0mfig\u001b[0m\u001b[0;34m,\u001b[0m \u001b[0max\u001b[0m \u001b[0;34m=\u001b[0m \u001b[0mplt\u001b[0m\u001b[0;34m.\u001b[0m\u001b[0msubplots\u001b[0m\u001b[0;34m(\u001b[0m\u001b[0mfigsize\u001b[0m\u001b[0;34m=\u001b[0m\u001b[0;34m(\u001b[0m\u001b[0;36m9\u001b[0m\u001b[0;34m,\u001b[0m \u001b[0;36m6\u001b[0m\u001b[0;34m)\u001b[0m\u001b[0;34m)\u001b[0m\u001b[0;34m\u001b[0m\u001b[0;34m\u001b[0m\u001b[0m\n\u001b[0m\u001b[1;32m      2\u001b[0m \u001b[0;34m\u001b[0m\u001b[0m\n\u001b[1;32m      3\u001b[0m \u001b[0mplt\u001b[0m\u001b[0;34m.\u001b[0m\u001b[0mbar\u001b[0m\u001b[0;34m(\u001b[0m\u001b[0mx\u001b[0m\u001b[0;34m=\u001b[0m\u001b[0mimportance_df_xgb\u001b[0m\u001b[0;34m[\u001b[0m\u001b[0;34m'Features'\u001b[0m\u001b[0;34m]\u001b[0m\u001b[0;34m.\u001b[0m\u001b[0mhead\u001b[0m\u001b[0;34m(\u001b[0m\u001b[0;36m5\u001b[0m\u001b[0;34m)\u001b[0m\u001b[0;34m,\u001b[0m \u001b[0mheight\u001b[0m\u001b[0;34m=\u001b[0m\u001b[0mimportance_df_xgb\u001b[0m\u001b[0;34m[\u001b[0m\u001b[0;34m'Importances'\u001b[0m\u001b[0;34m]\u001b[0m\u001b[0;34m.\u001b[0m\u001b[0mhead\u001b[0m\u001b[0;34m(\u001b[0m\u001b[0;36m5\u001b[0m\u001b[0;34m)\u001b[0m\u001b[0;34m)\u001b[0m\u001b[0;34m\u001b[0m\u001b[0;34m\u001b[0m\u001b[0m\n\u001b[1;32m      4\u001b[0m \u001b[0mplt\u001b[0m\u001b[0;34m.\u001b[0m\u001b[0mxticks\u001b[0m\u001b[0;34m(\u001b[0m\u001b[0mrotation\u001b[0m\u001b[0;34m=\u001b[0m\u001b[0;36m90\u001b[0m\u001b[0;34m)\u001b[0m\u001b[0;34m\u001b[0m\u001b[0;34m\u001b[0m\u001b[0m\n\u001b[1;32m      5\u001b[0m \u001b[0mplt\u001b[0m\u001b[0;34m.\u001b[0m\u001b[0mshow\u001b[0m\u001b[0;34m(\u001b[0m\u001b[0;34m)\u001b[0m\u001b[0;34m\u001b[0m\u001b[0;34m\u001b[0m\u001b[0m\n",
      "\u001b[0;31mNameError\u001b[0m: name 'plt' is not defined"
     ]
    }
   ],
   "source": [
    "fig, ax = plt.subplots(figsize=(9, 6))\n",
    "\n",
    "plt.bar(x=importance_df_xgb['Features'], height=importance_df_xgb['Importances'])\n",
    "plt.xticks(rotation=90)\n",
    "plt.show()"
   ]
  },
  {
   "cell_type": "markdown",
   "metadata": {},
   "source": [
    "## Decision Tree "
   ]
  },
  {
   "cell_type": "code",
   "execution_count": 220,
   "metadata": {
    "scrolled": true
   },
   "outputs": [
    {
     "name": "stdout",
     "output_type": "stream",
     "text": [
      "0.22.1\n"
     ]
    }
   ],
   "source": [
    "import sklearn.datasets as datasets\n",
    "from sklearn.tree import DecisionTreeClassifier\n",
    "\n",
    "from sklearn.tree import plot_tree\n",
    "import matplotlib.pyplot as plt\n",
    "\n",
    "\n",
    "# check for the sklearn version, it has to be 0.21\n",
    "import sklearn\n",
    "print(sklearn.__version__)"
   ]
  },
  {
   "cell_type": "code",
   "execution_count": 221,
   "metadata": {
    "scrolled": true
   },
   "outputs": [
    {
     "name": "stdout",
     "output_type": "stream",
     "text": [
      "Predicted   False  True \n",
      "Actual                  \n",
      "False        9437   1813\n",
      "True         1667    672\n"
     ]
    }
   ],
   "source": [
    "cart = DecisionTreeClassifier()\n",
    "cart.fit(X_train, y_train)\n",
    "preds = cart.predict(X_test)\n",
    "print(pd.crosstab(y_test, preds, rownames=['Actual '], colnames=['Predicted ']))"
   ]
  },
  {
   "cell_type": "code",
   "execution_count": 222,
   "metadata": {},
   "outputs": [],
   "source": [
    "# plt.figure(figsize=(25,10))\n",
    "\n",
    "# a = plot_tree(cart, \n",
    "#               feature_names=X_train.columns, \n",
    "#               class_names=['True','False'], \n",
    "#               filled=True, \n",
    "#               rounded=True, max_depth=1,\n",
    "#               fontsize=14)"
   ]
  },
  {
   "cell_type": "code",
   "execution_count": 223,
   "metadata": {},
   "outputs": [
    {
     "data": {
      "text/plain": [
       "['CART_gm.pkl']"
      ]
     },
     "execution_count": 223,
     "metadata": {},
     "output_type": "execute_result"
    }
   ],
   "source": [
    "# # Save to file in the current working directory\n",
    "joblib_file = \"CART_gm.pkl\"\n",
    "joblib.dump(cart, joblib_file)"
   ]
  },
  {
   "cell_type": "code",
   "execution_count": 224,
   "metadata": {},
   "outputs": [
    {
     "name": "stdout",
     "output_type": "stream",
     "text": [
      "              precision    recall  f1-score   support\n",
      "\n",
      "       False       0.85      0.84      0.84     11250\n",
      "        True       0.27      0.29      0.28      2339\n",
      "\n",
      "    accuracy                           0.74     13589\n",
      "   macro avg       0.56      0.56      0.56     13589\n",
      "weighted avg       0.75      0.74      0.75     13589\n",
      "\n"
     ]
    }
   ],
   "source": [
    "print(classification_report(y_test, preds))"
   ]
  },
  {
   "cell_type": "code",
   "execution_count": 225,
   "metadata": {},
   "outputs": [
    {
     "data": {
      "image/png": "[encoded data removed]",
      "text/plain": [
       "<Figure size 432x288 with 1 Axes>"
      ]
     },
     "metadata": {
      "needs_background": "light"
     },
     "output_type": "display_data"
    }
   ],
   "source": [
    "random_roc_auc = roc_auc_score(y_test, cart.predict(X_test))\n",
    "random_fpr, random_tpr, random_thresholds = roc_curve(y_test, cart.predict_proba(X_test)[:,1])\n",
    "plt.figure()\n",
    "plt.plot(random_fpr, random_tpr, label='Decision Tree (area = %0.2f)' % random_roc_auc)\n",
    "plt.plot([0, 1], [0, 1],'r--')\n",
    "plt.xlim([0.0, 1.0])\n",
    "plt.ylim([0.0, 1.05])\n",
    "plt.xlabel('False Positive Rate')\n",
    "plt.ylabel('True Positive Rate')\n",
    "plt.title('Receiver operating characteristic')\n",
    "plt.legend(loc=\"lower right\")\n",
    "plt.savefig('Log_ROC')\n",
    "plt.show()"
   ]
  },
  {
   "cell_type": "code",
   "execution_count": 226,
   "metadata": {},
   "outputs": [],
   "source": [
    "importance_df_cart = pd.DataFrame(list(zip(X, cart.feature_importances_)), columns=['Features', 'Importances'])\n",
    "importance_df_cart = importance_df_cart.sort_values(by=['Importances'], ascending=False)\n",
    "plot_importance = importance_df_cart.head(5)"
   ]
  },
  {
   "cell_type": "code",
   "execution_count": 227,
   "metadata": {},
   "outputs": [
    {
     "data": {
      "text/plain": [
       "0.770709262323496"
      ]
     },
     "execution_count": 227,
     "metadata": {},
     "output_type": "execute_result"
    }
   ],
   "source": [
    "importance_df_cart.head(5)['Importances'].sum()"
   ]
  },
  {
   "cell_type": "code",
   "execution_count": 228,
   "metadata": {},
   "outputs": [
    {
     "data": {
      "image/png": "[encoded data removed]",
      "text/plain": [
       "<Figure size 648x432 with 1 Axes>"
      ]
     },
     "metadata": {
      "needs_background": "light"
     },
     "output_type": "display_data"
    }
   ],
   "source": [
    "fig, ax = plt.subplots(figsize=(9, 6))\n",
    "plt.bar(x=importance_df_cart['Features'].head(5), height=importance_df_cart['Importances'].head(5))\n",
    "plt.xticks(rotation=90)\n",
    "plt.show()"
   ]
  },
  {
   "cell_type": "markdown",
   "metadata": {},
   "source": [
    "## Random Forest "
   ]
  },
  {
   "cell_type": "code",
   "execution_count": 229,
   "metadata": {},
   "outputs": [
    {
     "name": "stdout",
     "output_type": "stream",
     "text": [
      "Predicted   False  True \n",
      "Actual                  \n",
      "False       10984    266\n",
      "True         2082    257\n"
     ]
    }
   ],
   "source": [
    "RF = RandomForestClassifier(n_jobs=8)\n",
    "RF.fit(X_train, y_train)\n",
    "\n",
    "preds = RF.predict(X_test)\n",
    "print(pd.crosstab(y_test, preds, rownames=['Actual '], colnames=['Predicted ']))"
   ]
  },
  {
   "cell_type": "code",
   "execution_count": 230,
   "metadata": {},
   "outputs": [
    {
     "data": {
      "text/plain": [
       "['RandomForest_gm.pkl']"
      ]
     },
     "execution_count": 230,
     "metadata": {},
     "output_type": "execute_result"
    }
   ],
   "source": [
    "# # Save to file in the current working directory\n",
    "joblib_file = \"RandomForest_gm.pkl\"\n",
    "joblib.dump(RF, joblib_file)"
   ]
  },
  {
   "cell_type": "code",
   "execution_count": 231,
   "metadata": {},
   "outputs": [
    {
     "name": "stdout",
     "output_type": "stream",
     "text": [
      "              precision    recall  f1-score   support\n",
      "\n",
      "       False       0.84      0.98      0.90     11250\n",
      "        True       0.49      0.11      0.18      2339\n",
      "\n",
      "    accuracy                           0.83     13589\n",
      "   macro avg       0.67      0.54      0.54     13589\n",
      "weighted avg       0.78      0.83      0.78     13589\n",
      "\n"
     ]
    }
   ],
   "source": [
    "print(classification_report(y_test, preds))"
   ]
  },
  {
   "cell_type": "code",
   "execution_count": 232,
   "metadata": {},
   "outputs": [
    {
     "data": {
      "image/png": "[encoded data removed]",
      "text/plain": [
       "<Figure size 432x288 with 1 Axes>"
      ]
     },
     "metadata": {
      "needs_background": "light"
     },
     "output_type": "display_data"
    }
   ],
   "source": [
    "random_roc_auc = roc_auc_score(y_test, RF.predict(X_test))\n",
    "random_fpr, random_tpr, random_thresholds = roc_curve(y_test, RF.predict_proba(X_test)[:,1])\n",
    "plt.figure()\n",
    "plt.plot(random_fpr, random_tpr, label='Random Forest (area = %0.2f)' % random_roc_auc)\n",
    "plt.plot([0, 1], [0, 1],'r--')\n",
    "plt.xlim([0.0, 1.0])\n",
    "plt.ylim([0.0, 1.05])\n",
    "plt.xlabel('False Positive Rate')\n",
    "plt.ylabel('True Positive Rate')\n",
    "plt.title('Receiver operating characteristic')\n",
    "plt.legend(loc=\"lower right\")\n",
    "plt.savefig('Log_ROC')\n",
    "plt.show()"
   ]
  },
  {
   "cell_type": "code",
   "execution_count": 233,
   "metadata": {},
   "outputs": [],
   "source": [
    "importance_df_rf = pd.DataFrame(list(zip(X, RF.feature_importances_)), columns=['Features', 'Importances'])\n",
    "importance_df_rf = importance_df_rf.sort_values(by=['Importances'], ascending=False)\n",
    "plot_importance = importance_df_rf.head(10)"
   ]
  },
  {
   "cell_type": "code",
   "execution_count": 234,
   "metadata": {},
   "outputs": [
    {
     "data": {
      "text/html": [
       "<div>\n",
       "<style scoped>\n",
       "    .dataframe tbody tr th:only-of-type {\n",
       "        vertical-align: middle;\n",
       "    }\n",
       "\n",
       "    .dataframe tbody tr th {\n",
       "        vertical-align: top;\n",
       "    }\n",
       "\n",
       "    .dataframe thead th {\n",
       "        text-align: right;\n",
       "    }\n",
       "</style>\n",
       "<table border=\"1\" class=\"dataframe\">\n",
       "  <thead>\n",
       "    <tr style=\"text-align: right;\">\n",
       "      <th></th>\n",
       "      <th>Features</th>\n",
       "      <th>Importances</th>\n",
       "    </tr>\n",
       "  </thead>\n",
       "  <tbody>\n",
       "    <tr>\n",
       "      <th>25</th>\n",
       "      <td>totalactualamountpaid</td>\n",
       "      <td>0.165844</td>\n",
       "    </tr>\n",
       "    <tr>\n",
       "      <th>23</th>\n",
       "      <td>paymenttoincomepercentage</td>\n",
       "      <td>0.156658</td>\n",
       "    </tr>\n",
       "    <tr>\n",
       "      <th>0</th>\n",
       "      <td>originalloanamount</td>\n",
       "      <td>0.156032</td>\n",
       "    </tr>\n",
       "    <tr>\n",
       "      <th>21</th>\n",
       "      <td>originalinterestratepercentage</td>\n",
       "      <td>0.146285</td>\n",
       "    </tr>\n",
       "    <tr>\n",
       "      <th>22</th>\n",
       "      <td>obligorcreditscore</td>\n",
       "      <td>0.136787</td>\n",
       "    </tr>\n",
       "  </tbody>\n",
       "</table>\n",
       "</div>"
      ],
      "text/plain": [
       "                          Features  Importances\n",
       "25           totalactualamountpaid     0.165844\n",
       "23       paymenttoincomepercentage     0.156658\n",
       "0               originalloanamount     0.156032\n",
       "21  originalinterestratepercentage     0.146285\n",
       "22              obligorcreditscore     0.136787"
      ]
     },
     "execution_count": 234,
     "metadata": {},
     "output_type": "execute_result"
    }
   ],
   "source": [
    "importance_df_rf.head(5)"
   ]
  },
  {
   "cell_type": "code",
   "execution_count": 235,
   "metadata": {},
   "outputs": [
    {
     "data": {
      "image/png": "[encoded data removed]",
      "text/plain": [
       "<Figure size 648x432 with 1 Axes>"
      ]
     },
     "metadata": {
      "needs_background": "light"
     },
     "output_type": "display_data"
    }
   ],
   "source": [
    "\n",
    "fig, ax = plt.subplots(figsize=(9, 6))\n",
    "\n",
    "importance_df_rf = importance_df_rf.head(5)\n",
    "plt.bar(x=importance_df_rf['Features'], height=importance_df_rf['Importances'])\n",
    "\n",
    "plt.xticks(rotation=90)\n",
    "plt.show()"
   ]
  },
  {
   "cell_type": "code",
   "execution_count": null,
   "metadata": {},
   "outputs": [],
   "source": []
  },
  {
   "cell_type": "code",
   "execution_count": null,
   "metadata": {},
   "outputs": [],
   "source": []
  },
  {
   "cell_type": "code",
   "execution_count": null,
   "metadata": {},
   "outputs": [],
   "source": []
  },
  {
   "cell_type": "code",
   "execution_count": null,
   "metadata": {},
   "outputs": [],
   "source": []
  },
  {
   "cell_type": "code",
   "execution_count": null,
   "metadata": {},
   "outputs": [],
   "source": []
  },
  {
   "cell_type": "code",
   "execution_count": null,
   "metadata": {},
   "outputs": [],
   "source": []
  },
  {
   "cell_type": "code",
   "execution_count": null,
   "metadata": {},
   "outputs": [],
   "source": []
  },
  {
   "cell_type": "code",
   "execution_count": null,
   "metadata": {},
   "outputs": [],
   "source": []
  },
  {
   "cell_type": "code",
   "execution_count": null,
   "metadata": {},
   "outputs": [],
   "source": []
  }
 ],
 "metadata": {
  "kernelspec": {
   "display_name": "Python 3",
   "language": "python",
   "name": "python3"
  },
  "language_info": {
   "codemirror_mode": {
    "name": "ipython",
    "version": 3
   },
   "file_extension": ".py",
   "mimetype": "text/x-python",
   "name": "python",
   "nbconvert_exporter": "python",
   "pygments_lexer": "ipython3",
   "version": "3.7.6"
  }
 },
 "nbformat": 4,
 "nbformat_minor": 2
}
